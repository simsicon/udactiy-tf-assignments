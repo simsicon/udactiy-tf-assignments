{
 "cells": [
  {
   "cell_type": "markdown",
   "metadata": {
    "colab_type": "text",
    "id": "kR-4eNdK6lYS"
   },
   "source": [
    "Deep Learning\n",
    "=============\n",
    "\n",
    "Assignment 3\n",
    "------------\n",
    "\n",
    "Previously in `2_fullyconnected.ipynb`, you trained a logistic regression and a neural network model.\n",
    "\n",
    "The goal of this assignment is to explore regularization techniques."
   ]
  },
  {
   "cell_type": "code",
   "execution_count": 1,
   "metadata": {
    "cellView": "both",
    "colab": {
     "autoexec": {
      "startup": false,
      "wait_interval": 0
     }
    },
    "colab_type": "code",
    "collapsed": true,
    "id": "JLpLa8Jt7Vu4"
   },
   "outputs": [],
   "source": [
    "# These are all the modules we'll be using later. Make sure you can import them\n",
    "# before proceeding further.\n",
    "from __future__ import print_function\n",
    "import numpy as np\n",
    "import tensorflow as tf\n",
    "from six.moves import cPickle as pickle"
   ]
  },
  {
   "cell_type": "markdown",
   "metadata": {
    "colab_type": "text",
    "id": "1HrCK6e17WzV"
   },
   "source": [
    "First reload the data we generated in _notmist.ipynb_."
   ]
  },
  {
   "cell_type": "code",
   "execution_count": 2,
   "metadata": {
    "cellView": "both",
    "colab": {
     "autoexec": {
      "startup": false,
      "wait_interval": 0
     },
     "output_extras": [
      {
       "item_id": 1
      }
     ]
    },
    "colab_type": "code",
    "collapsed": false,
    "executionInfo": {
     "elapsed": 11777,
     "status": "ok",
     "timestamp": 1449849322348,
     "user": {
      "color": "",
      "displayName": "",
      "isAnonymous": false,
      "isMe": true,
      "permissionId": "",
      "photoUrl": "",
      "sessionId": "0",
      "userId": ""
     },
     "user_tz": 480
    },
    "id": "y3-cj1bpmuxc",
    "outputId": "e03576f1-ebbe-4838-c388-f1777bcc9873"
   },
   "outputs": [
    {
     "name": "stdout",
     "output_type": "stream",
     "text": [
      "Training set (200000, 28, 28) (200000,)\n",
      "Validation set (10000, 28, 28) (10000,)\n",
      "Test set (10000, 28, 28) (10000,)\n"
     ]
    }
   ],
   "source": [
    "pickle_file = 'notMNIST.pickle'\n",
    "\n",
    "with open(pickle_file, 'rb') as f:\n",
    "  save = pickle.load(f)\n",
    "  train_dataset = save['train_dataset']\n",
    "  train_labels = save['train_labels']\n",
    "  valid_dataset = save['valid_dataset']\n",
    "  valid_labels = save['valid_labels']\n",
    "  test_dataset = save['test_dataset']\n",
    "  test_labels = save['test_labels']\n",
    "  del save  # hint to help gc free up memory\n",
    "  print('Training set', train_dataset.shape, train_labels.shape)\n",
    "  print('Validation set', valid_dataset.shape, valid_labels.shape)\n",
    "  print('Test set', test_dataset.shape, test_labels.shape)"
   ]
  },
  {
   "cell_type": "markdown",
   "metadata": {
    "colab_type": "text",
    "id": "L7aHrm6nGDMB"
   },
   "source": [
    "Reformat into a shape that's more adapted to the models we're going to train:\n",
    "- data as a flat matrix,\n",
    "- labels as float 1-hot encodings."
   ]
  },
  {
   "cell_type": "code",
   "execution_count": 3,
   "metadata": {
    "cellView": "both",
    "colab": {
     "autoexec": {
      "startup": false,
      "wait_interval": 0
     },
     "output_extras": [
      {
       "item_id": 1
      }
     ]
    },
    "colab_type": "code",
    "collapsed": false,
    "executionInfo": {
     "elapsed": 11728,
     "status": "ok",
     "timestamp": 1449849322356,
     "user": {
      "color": "",
      "displayName": "",
      "isAnonymous": false,
      "isMe": true,
      "permissionId": "",
      "photoUrl": "",
      "sessionId": "0",
      "userId": ""
     },
     "user_tz": 480
    },
    "id": "IRSyYiIIGIzS",
    "outputId": "3f8996ee-3574-4f44-c953-5c8a04636582"
   },
   "outputs": [
    {
     "name": "stdout",
     "output_type": "stream",
     "text": [
      "Training set (200000, 784) (200000, 10)\n",
      "Validation set (10000, 784) (10000, 10)\n",
      "Test set (10000, 784) (10000, 10)\n"
     ]
    }
   ],
   "source": [
    "image_size = 28\n",
    "num_labels = 10\n",
    "\n",
    "def reformat(dataset, labels):\n",
    "  dataset = dataset.reshape((-1, image_size * image_size)).astype(np.float32)\n",
    "  # Map 2 to [0.0, 1.0, 0.0 ...], 3 to [0.0, 0.0, 1.0 ...]\n",
    "  labels = (np.arange(num_labels) == labels[:,None]).astype(np.float32)\n",
    "  return dataset, labels\n",
    "train_dataset, train_labels = reformat(train_dataset, train_labels)\n",
    "valid_dataset, valid_labels = reformat(valid_dataset, valid_labels)\n",
    "test_dataset, test_labels = reformat(test_dataset, test_labels)\n",
    "print('Training set', train_dataset.shape, train_labels.shape)\n",
    "print('Validation set', valid_dataset.shape, valid_labels.shape)\n",
    "print('Test set', test_dataset.shape, test_labels.shape)"
   ]
  },
  {
   "cell_type": "code",
   "execution_count": 4,
   "metadata": {
    "cellView": "both",
    "colab": {
     "autoexec": {
      "startup": false,
      "wait_interval": 0
     }
    },
    "colab_type": "code",
    "collapsed": true,
    "id": "RajPLaL_ZW6w"
   },
   "outputs": [],
   "source": [
    "def accuracy(predictions, labels):\n",
    "  return (100.0 * np.sum(np.argmax(predictions, 1) == np.argmax(labels, 1))\n",
    "          / predictions.shape[0])"
   ]
  },
  {
   "cell_type": "markdown",
   "metadata": {
    "colab_type": "text",
    "id": "sgLbUAQ1CW-1"
   },
   "source": [
    "---\n",
    "Problem 1\n",
    "---------\n",
    "\n",
    "Introduce and tune L2 regularization for both logistic and neural network models. Remember that L2 amounts to adding a penalty on the norm of the weights to the loss. In TensorFlow, you can compute the L2 loss for a tensor `t` using `nn.l2_loss(t)`. The right amount of regularization should improve your validation / test accuracy.\n",
    "\n",
    "---"
   ]
  },
  {
   "cell_type": "code",
   "execution_count": null,
   "metadata": {
    "collapsed": false
   },
   "outputs": [],
   "source": [
    "#\n",
    "# L2 regularization for Logistic Regression\n",
    "# Define Tensorflow Graph\n",
    "\n",
    "learning_rate = 0.01\n",
    "batch_size = 20\n",
    "l2_weight = 0.5e-3\n",
    "\n",
    "logits_graph = tf.Graph()\n",
    "\n",
    "with logits_graph.as_default():\n",
    "    tf_train_dataset = tf.placeholder(tf.float32, shape=(batch_size, image_size * image_size))\n",
    "    tf_train_labels = tf.placeholder(tf.float32, shape=(batch_size, num_labels))\n",
    "    tf_valid_dataset = tf.constant(valid_dataset)\n",
    "    tf_test_dataset = tf.constant(test_dataset)\n",
    "    \n",
    "    weights = tf.Variable(tf.truncated_normal([image_size * image_size, num_labels]))\n",
    "    biases = tf.Variable(tf.zeros([num_labels]))\n",
    "    \n",
    "    logits = tf.matmul(tf_train_dataset, weights) + biases\n",
    "    loss = tf.reduce_mean(tf.nn.softmax_cross_entropy_with_logits(logits, tf_train_labels))\n",
    "    loss_with_regularization = loss + l2_weight * tf.nn.l2_loss(weights)\n",
    "    \n",
    "    optimizer = tf.train.GradientDescentOptimizer(learning_rate).minimize(loss_with_regularization)\n",
    "    \n",
    "    train_prediction = tf.nn.softmax(logits)\n",
    "    \n",
    "    valid_logits = tf.matmul(tf_valid_dataset, weights) + biases\n",
    "    test_logits = tf.matmul(tf_test_dataset, weights) + biases\n",
    "    \n",
    "    valid_prediction = tf.nn.softmax(valid_logits)\n",
    "    test_prediction = tf.nn.softmax(test_logits)\n",
    "    \n",
    "    init_op = tf.initialize_all_variables()"
   ]
  },
  {
   "cell_type": "code",
   "execution_count": null,
   "metadata": {
    "collapsed": false
   },
   "outputs": [],
   "source": [
    "#\n",
    "# L2 regularization for Logistic Regression\n",
    "# Run Tensorflow Session\n",
    "\n",
    "num_epochs = 10001\n",
    "\n",
    "with tf.Session(graph=logits_graph) as logits_session:\n",
    "    logits_session.run(init_op)\n",
    "    \n",
    "    for epoch in range(num_epochs):\n",
    "\n",
    "        offset = (epoch * batch_size) % (train_labels.shape[0] - batch_size)\n",
    "        batch_data = train_dataset[offset:(offset + batch_size),:]\n",
    "        batch_labels = train_labels[offset:(offset + batch_size),:]\n",
    "        \n",
    "        feed_dict = { tf_train_dataset : batch_data, tf_train_labels : batch_labels }\n",
    "        _, l, predictions = logits_session.run([optimizer, loss_with_regularization, train_prediction], feed_dict=feed_dict)\n",
    "        \n",
    "        if(epoch % 100 == 0):\n",
    "            print('Loss at epoch %d: %f' % (epoch, l))\n",
    "            print('Training accuracy: %.1f%%' % accuracy(predictions, batch_labels))\n",
    "            print('Validation accuracy: %.1f%%' % accuracy(valid_prediction.eval(), valid_labels))\n",
    "    \n",
    "    print('Test accuracy: %.1f%%' % accuracy(test_prediction.eval(), test_labels))"
   ]
  },
  {
   "cell_type": "code",
   "execution_count": null,
   "metadata": {
    "collapsed": false
   },
   "outputs": [],
   "source": [
    "#\n",
    "# L2 regularization for Neural Network\n",
    "# Define Tensorflow Graph\n",
    "\n",
    "learning_rate = 0.3\n",
    "hidden_nodes = 1024\n",
    "l2_weight = 0.5e-3\n",
    "batch_size = 100\n",
    "\n",
    "nn_graph = tf.Graph()    \n",
    "\n",
    "with nn_graph.as_default():\n",
    "    tf_train_dataset = tf.placeholder(tf.float32, shape=(batch_size, image_size * image_size))\n",
    "    tf_train_labels = tf.placeholder(tf.float32, shape=(batch_size, num_labels))\n",
    "    tf_valid_dataset = tf.constant(valid_dataset)\n",
    "    tf_test_dataset = tf.constant(test_dataset)\n",
    "    \n",
    "    weights_01 = tf.Variable(tf.truncated_normal([image_size * image_size, hidden_nodes]))\n",
    "    weights_12 = tf.Variable(tf.truncated_normal([hidden_nodes, num_labels]))\n",
    "    \n",
    "    biases_01 = tf.Variable(tf.zeros([hidden_nodes]))\n",
    "    biases_12 = tf.Variable(tf.zeros([num_labels]))\n",
    "    \n",
    "    z_01 = tf.matmul(tf_train_dataset, weights_01) + biases_01\n",
    "    h_1 = tf.nn.relu(z_01)\n",
    "    z_12 = tf.matmul(h_1, weights_12) + biases_12\n",
    "    \n",
    "    loss = tf.reduce_mean(tf.nn.softmax_cross_entropy_with_logits(z_12, tf_train_labels))\n",
    "    l2_loss = tf.nn.l2_loss(weights_01) + tf.nn.l2_loss(weights_12)\n",
    "    \n",
    "    loss_with_regularization = loss + l2_weight * l2_loss\n",
    "    \n",
    "    optimizer = tf.train.GradientDescentOptimizer(learning_rate).minimize(loss_with_regularization)\n",
    "    \n",
    "    train_prediction = tf.nn.softmax(z_12)\n",
    "    \n",
    "    valid_nn = tf.matmul(tf.nn.relu(tf.matmul(tf_valid_dataset, weights_01) + biases_01), weights_12) + biases_12\n",
    "    test_nn = tf.matmul(tf.nn.relu(tf.matmul(tf_test_dataset, weights_01) + biases_01), weights_12) + biases_12\n",
    "    \n",
    "    valid_prediction = tf.nn.softmax(valid_nn)\n",
    "    test_prediction = tf.nn.softmax(test_nn)\n",
    "    \n",
    "    init_op = tf.initialize_all_variables()"
   ]
  },
  {
   "cell_type": "code",
   "execution_count": null,
   "metadata": {
    "collapsed": false
   },
   "outputs": [],
   "source": [
    "#\n",
    "# L2 regularization for Neural Network\n",
    "# Run Tensorflow Session\n",
    "\n",
    "num_epochs = 10001\n",
    "\n",
    "with tf.Session(graph=nn_graph) as nn_session:\n",
    "    nn_session.run(init_op)\n",
    "    \n",
    "    for epoch in range(num_epochs):\n",
    "        offset = (epoch * batch_size) % (train_labels.shape[0] - batch_size)\n",
    "        # Generate a minibatch.\n",
    "        batch_data = train_dataset[offset:(offset + batch_size), :]\n",
    "        batch_labels = train_labels[offset:(offset + batch_size), :]\n",
    "        # Prepare a dictionary telling the session where to feed the minibatch.\n",
    "        # The key of the dictionary is the placeholder node of the graph to be fed,\n",
    "        # and the value is the numpy array to feed to it.\n",
    "        feed_dict = {tf_train_dataset : batch_data, tf_train_labels : batch_labels}\n",
    "\n",
    "        _, l, predictions = nn_session.run([optimizer, loss_with_regularization, train_prediction], feed_dict=feed_dict)\n",
    "        \n",
    "        if(epoch % 100 == 0):\n",
    "            print('Mini Batch Loss at epoch %d: %f' % (epoch, l))\n",
    "            print('Training Mini Batch accuracy: %.1f%%' % accuracy(predictions, batch_labels))\n",
    "            print('Validation accuracy: %.1f%%' % accuracy(valid_prediction.eval(), valid_labels))\n",
    "    \n",
    "    print('Test accuracy: %.1f%%' % accuracy(test_prediction.eval(), test_labels))"
   ]
  },
  {
   "cell_type": "markdown",
   "metadata": {
    "colab_type": "text",
    "id": "na8xX2yHZzNF"
   },
   "source": [
    "---\n",
    "Problem 2\n",
    "---------\n",
    "Let's demonstrate an extreme case of overfitting. Restrict your training data to just a few batches. What happens?\n",
    "\n",
    "---"
   ]
  },
  {
   "cell_type": "code",
   "execution_count": null,
   "metadata": {
    "collapsed": false
   },
   "outputs": [],
   "source": [
    "#\n",
    "# Overfitting for Neural Network\n",
    "# Using a relative small subset\n",
    "\n",
    "num_epochs = 10001\n",
    "batched_train_dataset = train_dataset[0:1000, :]\n",
    "batched_train_labels = train_labels[0:1000, :]\n",
    "\n",
    "with tf.Session(graph=nn_graph) as nn_session:\n",
    "    nn_session.run(init_op)\n",
    "    \n",
    "    for epoch in range(num_epochs):\n",
    "        offset = (epoch * batch_size) % (batched_train_labels.shape[0] - batch_size)\n",
    "        # Generate a minibatch.\n",
    "        batch_data = batched_train_dataset[offset:(offset + batch_size), :]\n",
    "        batch_labels = batched_train_labels[offset:(offset + batch_size), :]\n",
    "        # Prepare a dictionary telling the session where to feed the minibatch.\n",
    "        # The key of the dictionary is the placeholder node of the graph to be fed,\n",
    "        # and the value is the numpy array to feed to it.\n",
    "        feed_dict = {tf_train_dataset : batch_data, tf_train_labels : batch_labels}\n",
    "\n",
    "        _, l, predictions = nn_session.run([optimizer, loss_with_regularization, train_prediction], feed_dict=feed_dict)\n",
    "        \n",
    "        if(epoch % 100 == 0):\n",
    "            print('Mini Batch Loss at epoch %d: %f' % (epoch, l))\n",
    "            print('Training Mini Batch accuracy: %.1f%%' % accuracy(predictions, batch_labels))\n",
    "            print('Validation accuracy: %.1f%%' % accuracy(valid_prediction.eval(), valid_labels))\n",
    "    \n",
    "    print('Test accuracy: %.1f%%' % accuracy(test_prediction.eval(), test_labels))"
   ]
  },
  {
   "cell_type": "markdown",
   "metadata": {
    "colab_type": "text",
    "id": "ww3SCBUdlkRc"
   },
   "source": [
    "---\n",
    "Problem 3\n",
    "---------\n",
    "Introduce Dropout on the hidden layer of the neural network. Remember: Dropout should only be introduced during training, not evaluation, otherwise your evaluation results would be stochastic as well. TensorFlow provides `nn.dropout()` for that, but you have to make sure it's only inserted during training.\n",
    "\n",
    "What happens to our extreme overfitting case?\n",
    "\n",
    "---"
   ]
  },
  {
   "cell_type": "code",
   "execution_count": null,
   "metadata": {
    "collapsed": true
   },
   "outputs": [],
   "source": [
    "#\n",
    "# Dropout Graph\n",
    "#\n",
    "\n",
    "learning_rate = 0.3\n",
    "hidden_nodes = 1024\n",
    "l2_weight = 0.5e-3\n",
    "batch_size = 100\n",
    "\n",
    "nn_graph = tf.Graph()    \n",
    "\n",
    "with nn_graph.as_default():\n",
    "    tf_train_dataset = tf.placeholder(tf.float32, shape=(batch_size, image_size * image_size))\n",
    "    tf_train_labels = tf.placeholder(tf.float32, shape=(batch_size, num_labels))\n",
    "    tf_valid_dataset = tf.constant(valid_dataset)\n",
    "    tf_test_dataset = tf.constant(test_dataset)\n",
    "    \n",
    "    weights_01 = tf.Variable(tf.truncated_normal([image_size * image_size, hidden_nodes]))\n",
    "    weights_12 = tf.Variable(tf.truncated_normal([hidden_nodes, num_labels]))\n",
    "    \n",
    "    biases_01 = tf.Variable(tf.zeros([hidden_nodes]))\n",
    "    biases_12 = tf.Variable(tf.zeros([num_labels]))\n",
    "    \n",
    "    keep_prob = tf.placeholder(tf.float32)\n",
    "    \n",
    "    z_01 = tf.matmul(tf_train_dataset, weights_01) + biases_01\n",
    "    h_1 = tf.nn.dropout(tf.nn.relu(z_01), keep_prob)\n",
    "    z_12 = tf.matmul(h_1, weights_12) + biases_12\n",
    "    \n",
    "    loss = tf.reduce_mean(tf.nn.softmax_cross_entropy_with_logits(z_12, tf_train_labels))\n",
    "    l2_loss = tf.nn.l2_loss(weights_01) + tf.nn.l2_loss(weights_12)\n",
    "    \n",
    "    loss_with_regularization = loss + l2_weight * l2_loss\n",
    "    \n",
    "    optimizer = tf.train.GradientDescentOptimizer(learning_rate).minimize(loss_with_regularization)\n",
    "    \n",
    "    train_prediction = tf.nn.softmax(z_12)\n",
    "    \n",
    "    valid_nn = tf.matmul(tf.nn.relu(tf.matmul(tf_valid_dataset, weights_01) + biases_01), weights_12) + biases_12\n",
    "    test_nn = tf.matmul(tf.nn.relu(tf.matmul(tf_test_dataset, weights_01) + biases_01), weights_12) + biases_12\n",
    "    \n",
    "    valid_prediction = tf.nn.softmax(valid_nn)\n",
    "    test_prediction = tf.nn.softmax(test_nn)\n",
    "    \n",
    "    init_op = tf.initialize_all_variables()"
   ]
  },
  {
   "cell_type": "code",
   "execution_count": null,
   "metadata": {
    "collapsed": false
   },
   "outputs": [],
   "source": [
    "#\n",
    "# Dropout Session\n",
    "#\n",
    "\n",
    "num_epochs = 10001\n",
    "batched_train_dataset = train_dataset[0:200000, :]\n",
    "batched_train_labels = train_labels[0:200000, :]\n",
    "\n",
    "with tf.Session(graph=nn_graph) as nn_session:\n",
    "    nn_session.run(init_op)\n",
    "    \n",
    "    for epoch in range(num_epochs):\n",
    "        offset = (epoch * batch_size) % (batched_train_labels.shape[0] - batch_size)\n",
    "        # Generate a minibatch.\n",
    "        batch_data = batched_train_dataset[offset:(offset + batch_size), :]\n",
    "        batch_labels = batched_train_labels[offset:(offset + batch_size), :]\n",
    "        # Prepare a dictionary telling the session where to feed the minibatch.\n",
    "        # The key of the dictionary is the placeholder node of the graph to be fed,\n",
    "        # and the value is the numpy array to feed to it.\n",
    "        training_feed_dict = {tf_train_dataset : batch_data, tf_train_labels : batch_labels, keep_prob: 0.5}\n",
    "        evalute_feed_dict = {tf_train_dataset : batch_data, tf_train_labels : batch_labels, keep_prob: 1}\n",
    "\n",
    "        _, l = nn_session.run([optimizer, loss_with_regularization], feed_dict=training_feed_dict)\n",
    "        predictions = nn_session.run(train_prediction, feed_dict=evalute_feed_dict)\n",
    "        \n",
    "        if(epoch % 100 == 0):\n",
    "            print('Mini Batch Loss at epoch %d: %f' % (epoch, l))\n",
    "            print('Training Mini Batch accuracy: %.1f%%' % accuracy(predictions, batch_labels))\n",
    "            print('Validation accuracy: %.1f%%' % accuracy(valid_prediction.eval(), valid_labels))\n",
    "    \n",
    "    print('Test accuracy: %.1f%%' % accuracy(test_prediction.eval(), test_labels))"
   ]
  },
  {
   "cell_type": "markdown",
   "metadata": {
    "colab_type": "text",
    "id": "-b1hTz3VWZjw"
   },
   "source": [
    "---\n",
    "Problem 4\n",
    "---------\n",
    "\n",
    "Try to get the best performance you can using a multi-layer model! The best reported test accuracy using a deep network is [97.1%](http://yaroslavvb.blogspot.com/2011/09/notmnist-dataset.html?showComment=1391023266211#c8758720086795711595).\n",
    "\n",
    "One avenue you can explore is to add multiple layers.\n",
    "\n",
    "Another one is to use learning rate decay:\n",
    "\n",
    "    global_step = tf.Variable(0)  # count the number of steps taken.\n",
    "    learning_rate = tf.train.exponential_decay(0.5, global_step, ...)\n",
    "    optimizer = tf.train.GradientDescentOptimizer(learning_rate).minimize(loss, global_step=global_step)\n",
    " \n",
    " ---\n"
   ]
  },
  {
   "cell_type": "code",
   "execution_count": 5,
   "metadata": {
    "collapsed": false
   },
   "outputs": [
    {
     "data": {
      "text/plain": [
       "0.035714285714285712"
      ]
     },
     "execution_count": 5,
     "metadata": {},
     "output_type": "execute_result"
    }
   ],
   "source": [
    "np.sqrt(1.0 / (image_size * image_size))"
   ]
  },
  {
   "cell_type": "code",
   "execution_count": 41,
   "metadata": {
    "collapsed": false
   },
   "outputs": [],
   "source": [
    "#\n",
    "# Multi Layer Model\n",
    "#\n",
    "\n",
    "l2_weight = 0.03\n",
    "batch_size = 128\n",
    "keep_prob = 1\n",
    "\n",
    "hidden_nodes1 = 1024\n",
    "hidden_nodes2 = 305\n",
    "hidden_nodes3 = 75\n",
    "\n",
    "multi_nn_graph = tf.Graph()\n",
    "\n",
    "def variables_weights(n_inputs, n_outputs):\n",
    "    stddev = np.sqrt(2.0 / (n_inputs + n_outputs))\n",
    "    return tf.Variable(tf.truncated_normal([n_inputs, n_outputs], stddev=stddev))\n",
    "\n",
    "with multi_nn_graph.as_default():\n",
    "    tf_train_dataset = tf.placeholder(tf.float32, shape=(batch_size, image_size * image_size))\n",
    "    tf_train_labels = tf.placeholder(tf.float32, shape=(batch_size, num_labels))\n",
    "    tf_valid_dataset = tf.constant(valid_dataset)\n",
    "    tf_test_dataset = tf.constant(test_dataset)\n",
    "    \n",
    "    # Hidden layer 1\n",
    "    weights_01 = variables_weights(image_size * image_size, hidden_nodes1)\n",
    "    biases_01 = tf.Variable(tf.zeros([hidden_nodes1]))\n",
    "    hidden_layer_1 = tf.nn.relu(tf.matmul(tf_train_dataset, weights_01) + biases_01)\n",
    "#     drop_out_hidden_layer_1 = tf.nn.dropout(hidden_layer_1, keep_prob)\n",
    "    \n",
    "    # Hidden layer 2\n",
    "    weights_12 = variables_weights(hidden_nodes1, hidden_nodes2)\n",
    "    biases_12 = tf.Variable(tf.zeros([hidden_nodes2]))\n",
    "    hidden_layer_2 = tf.nn.relu(tf.matmul(hidden_layer_1, weights_12) + biases_12)\n",
    "#     drop_out_hidden_layer_2 = tf.nn.dropout(hidden_layer_2, keep_prob)\n",
    "\n",
    "    # Hidden layer 3\n",
    "#     weights_23 = tf.Variable(tf.truncated_normal([hidden_nodes2, hidden_nodes3], stddev=np.sqrt(2.0 / hidden_nodes2)))\n",
    "#     biases_23 = tf.Variable(tf.zeros([hidden_nodes3]))\n",
    "#     hidden_layer_3 = tf.nn.relu(tf.matmul(drop_out_hidden_layer_2, weights_23) + biases_23)\n",
    "#     drop_out_hidden_layer_3 = tf.nn.dropout(hidden_layer_3, keep_prob)\n",
    "    \n",
    "    # Output Layer\n",
    "    weights = variables_weights(hidden_nodes2, num_labels)\n",
    "    biases = tf.Variable(tf.zeros([num_labels]))\n",
    "    output_layer = tf.matmul(hidden_layer_2, weights) + biases\n",
    "    \n",
    "    # Loss and regularization\n",
    "#     l2_loss = tf.nn.l2_loss(weights_01) + tf.nn.l2_loss(weights_12) + tf.nn.l2_loss(weights_23) + tf.nn.l2_loss(weights)\n",
    "    l2_loss = tf.nn.l2_loss(weights_01) + tf.nn.l2_loss(weights_12) + tf.nn.l2_loss(weights)\n",
    "    loss = tf.reduce_mean(tf.nn.softmax_cross_entropy_with_logits(output_layer, tf_train_labels) + l2_loss)\n",
    "    \n",
    "    # Learning rate\n",
    "    global_step = tf.Variable(0)  # count the number of steps taken.\n",
    "    learning_rate = tf.train.exponential_decay(0.3, global_step, 3500, 0.86, staircase=True)\n",
    "    \n",
    "    # Optimizer\n",
    "    optimizer = tf.train.GradientDescentOptimizer(learning_rate).minimize(loss, global_step=global_step)\n",
    "\n",
    "    # Prediction, validation and test\n",
    "    train_prediction = tf.nn.softmax(output_layer)\n",
    "    \n",
    "    valid_layer1 = tf.nn.relu(tf.matmul(tf_valid_dataset, weights_01) + biases_01)\n",
    "    valid_layer2 = tf.nn.relu(tf.matmul(valid_layer1, weights_12) + biases_12)\n",
    "#     valid_layer3 = tf.nn.relu(tf.matmul(valid_layer2, weights_23) + biases_23)\n",
    "    valid_output = tf.matmul(valid_layer2, weights) + biases\n",
    "    valid_prediction = tf.nn.softmax(valid_output)\n",
    "    \n",
    "    test_layer1 = tf.nn.relu(tf.matmul(tf_test_dataset, weights_01) + biases_01)\n",
    "    test_layer2 = tf.nn.relu(tf.matmul(test_layer1, weights_12) + biases_12)\n",
    "#     test_layer3 = tf.nn.relu(tf.matmul(test_layer2, weights_23) + biases_23)\n",
    "    test_output = tf.matmul(test_layer2, weights) + biases\n",
    "    test_prediction = tf.nn.softmax(test_output)\n",
    "    \n",
    "    # Initialize variables\n",
    "    init_op = tf.initialize_all_variables()"
   ]
  },
  {
   "cell_type": "code",
   "execution_count": null,
   "metadata": {
    "collapsed": false
   },
   "outputs": [],
   "source": [
    "#\n",
    "# Multi Layer Session\n",
    "#\n",
    "\n",
    "num_epochs = 10001\n",
    "\n",
    "with tf.Session(graph=multi_nn_graph) as session:\n",
    "    \n",
    "    session.run(init_op)\n",
    "    \n",
    "    for epoch in range(num_epochs):\n",
    "        offset = (epoch * batch_size) % (train_labels.shape[0] - batch_size)\n",
    "        # Generate a minibatch.\n",
    "        batch_data = train_dataset[offset:(offset + batch_size), :]\n",
    "        batch_labels = train_labels[offset:(offset + batch_size), :]\n",
    "        # Prepare a dictionary telling the session where to feed the minibatch.\n",
    "        # The key of the dictionary is the placeholder node of the graph to be fed,\n",
    "        # and the value is the numpy array to feed to it.\n",
    "        \n",
    "        feed_dict = {tf_train_dataset : batch_data, tf_train_labels : batch_labels}\n",
    "\n",
    "        _, l, predictions = session.run([optimizer, loss, train_prediction], feed_dict=feed_dict)\n",
    "        \n",
    "        if(epoch % 100 == 0):\n",
    "            print('Mini Batch Loss at epoch %d: %f' % (epoch, l))\n",
    "            print('Training Mini Batch accuracy: %.1f%%' % accuracy(predictions, batch_labels))\n",
    "            print('Validation accuracy: %.1f%%' % accuracy(valid_prediction.eval(), valid_labels))\n",
    "    \n",
    "    print('Test accuracy: %.1f%%' % accuracy(test_prediction.eval(), test_labels))"
   ]
  },
  {
   "cell_type": "code",
   "execution_count": 40,
   "metadata": {
    "collapsed": false
   },
   "outputs": [
    {
     "data": {
      "text/plain": [
       "0.050507627227610534"
      ]
     },
     "execution_count": 40,
     "metadata": {},
     "output_type": "execute_result"
    }
   ],
   "source": [
    "np.sqrt(2.0/(28*28))"
   ]
  },
  {
   "cell_type": "code",
   "execution_count": 20,
   "metadata": {
    "collapsed": false
   },
   "outputs": [
    {
     "name": "stdout",
     "output_type": "stream",
     "text": [
      "Minibatch loss at step 0 : 2.56204\n",
      "Minibatch accuracy: 43.0%\n",
      "Validation accuracy: 30.2%\n",
      "Minibatch loss at step 500 : 0.639876\n",
      "Minibatch accuracy: 87.5%\n",
      "Validation accuracy: 84.7%\n",
      "Minibatch loss at step 1000 : 0.629943\n",
      "Minibatch accuracy: 87.5%\n",
      "Validation accuracy: 86.4%\n",
      "Minibatch loss at step 1500 : 0.295181\n",
      "Minibatch accuracy: 95.3%\n",
      "Validation accuracy: 87.0%\n"
     ]
    },
    {
     "ename": "KeyboardInterrupt",
     "evalue": "",
     "output_type": "error",
     "traceback": [
      "\u001b[1;31m---------------------------------------------------------------------------\u001b[0m",
      "\u001b[1;31mKeyboardInterrupt\u001b[0m                         Traceback (most recent call last)",
      "\u001b[1;32m<ipython-input-20-613a9aa78951>\u001b[0m in \u001b[0;36m<module>\u001b[1;34m()\u001b[0m\n\u001b[0;32m    146\u001b[0m     \u001b[0mfeed_dict\u001b[0m \u001b[1;33m=\u001b[0m \u001b[1;33m{\u001b[0m\u001b[0mtf_train_dataset\u001b[0m \u001b[1;33m:\u001b[0m \u001b[0mbatch_data\u001b[0m\u001b[1;33m,\u001b[0m \u001b[0mtf_train_labels\u001b[0m \u001b[1;33m:\u001b[0m \u001b[0mbatch_labels\u001b[0m\u001b[1;33m,\u001b[0m \u001b[0mkeep_prob\u001b[0m\u001b[1;33m:\u001b[0m\u001b[1;36m0.75\u001b[0m\u001b[1;33m}\u001b[0m\u001b[1;33m\u001b[0m\u001b[0m\n\u001b[0;32m    147\u001b[0m     _, l, predictions = session.run(\n\u001b[1;32m--> 148\u001b[1;33m       [optimizer, loss, train_prediction], feed_dict=feed_dict)\n\u001b[0m\u001b[0;32m    149\u001b[0m     \u001b[1;32mif\u001b[0m \u001b[1;33m(\u001b[0m\u001b[0mstep\u001b[0m \u001b[1;33m%\u001b[0m \u001b[1;36m500\u001b[0m \u001b[1;33m==\u001b[0m \u001b[1;36m0\u001b[0m\u001b[1;33m)\u001b[0m\u001b[1;33m:\u001b[0m\u001b[1;33m\u001b[0m\u001b[0m\n\u001b[0;32m    150\u001b[0m       \u001b[1;32mprint\u001b[0m\u001b[1;33m(\u001b[0m\u001b[1;34m\"Minibatch loss at step\"\u001b[0m\u001b[1;33m,\u001b[0m \u001b[0mstep\u001b[0m\u001b[1;33m,\u001b[0m \u001b[1;34m\":\"\u001b[0m\u001b[1;33m,\u001b[0m \u001b[0ml\u001b[0m\u001b[1;33m)\u001b[0m\u001b[1;33m\u001b[0m\u001b[0m\n",
      "\u001b[1;32m/home/simsicon/.pyenv/versions/2.7.8/lib/python2.7/site-packages/tensorflow/python/client/session.pyc\u001b[0m in \u001b[0;36mrun\u001b[1;34m(self, fetches, feed_dict, options, run_metadata)\u001b[0m\n\u001b[0;32m    338\u001b[0m     \u001b[1;32mtry\u001b[0m\u001b[1;33m:\u001b[0m\u001b[1;33m\u001b[0m\u001b[0m\n\u001b[0;32m    339\u001b[0m       result = self._run(None, fetches, feed_dict, options_ptr,\n\u001b[1;32m--> 340\u001b[1;33m                          run_metadata_ptr)\n\u001b[0m\u001b[0;32m    341\u001b[0m       \u001b[1;32mif\u001b[0m \u001b[0mrun_metadata\u001b[0m\u001b[1;33m:\u001b[0m\u001b[1;33m\u001b[0m\u001b[0m\n\u001b[0;32m    342\u001b[0m         \u001b[0mproto_data\u001b[0m \u001b[1;33m=\u001b[0m \u001b[0mtf_session\u001b[0m\u001b[1;33m.\u001b[0m\u001b[0mTF_GetBuffer\u001b[0m\u001b[1;33m(\u001b[0m\u001b[0mrun_metadata_ptr\u001b[0m\u001b[1;33m)\u001b[0m\u001b[1;33m\u001b[0m\u001b[0m\n",
      "\u001b[1;32m/home/simsicon/.pyenv/versions/2.7.8/lib/python2.7/site-packages/tensorflow/python/client/session.pyc\u001b[0m in \u001b[0;36m_run\u001b[1;34m(self, handle, fetches, feed_dict, options, run_metadata)\u001b[0m\n\u001b[0;32m    562\u001b[0m     \u001b[1;32mtry\u001b[0m\u001b[1;33m:\u001b[0m\u001b[1;33m\u001b[0m\u001b[0m\n\u001b[0;32m    563\u001b[0m       results = self._do_run(handle, target_list, unique_fetches,\n\u001b[1;32m--> 564\u001b[1;33m                              feed_dict_string, options, run_metadata)\n\u001b[0m\u001b[0;32m    565\u001b[0m     \u001b[1;32mfinally\u001b[0m\u001b[1;33m:\u001b[0m\u001b[1;33m\u001b[0m\u001b[0m\n\u001b[0;32m    566\u001b[0m       \u001b[1;31m# The movers are no longer used. Delete them.\u001b[0m\u001b[1;33m\u001b[0m\u001b[1;33m\u001b[0m\u001b[0m\n",
      "\u001b[1;32m/home/simsicon/.pyenv/versions/2.7.8/lib/python2.7/site-packages/tensorflow/python/client/session.pyc\u001b[0m in \u001b[0;36m_do_run\u001b[1;34m(self, handle, target_list, fetch_list, feed_dict, options, run_metadata)\u001b[0m\n\u001b[0;32m    635\u001b[0m     \u001b[1;32mif\u001b[0m \u001b[0mhandle\u001b[0m \u001b[1;32mis\u001b[0m \u001b[0mNone\u001b[0m\u001b[1;33m:\u001b[0m\u001b[1;33m\u001b[0m\u001b[0m\n\u001b[0;32m    636\u001b[0m       return self._do_call(_run_fn, self._session, feed_dict, fetch_list,\n\u001b[1;32m--> 637\u001b[1;33m                            target_list, options, run_metadata)\n\u001b[0m\u001b[0;32m    638\u001b[0m     \u001b[1;32melse\u001b[0m\u001b[1;33m:\u001b[0m\u001b[1;33m\u001b[0m\u001b[0m\n\u001b[0;32m    639\u001b[0m       return self._do_call(_prun_fn, self._session, handle, feed_dict,\n",
      "\u001b[1;32m/home/simsicon/.pyenv/versions/2.7.8/lib/python2.7/site-packages/tensorflow/python/client/session.pyc\u001b[0m in \u001b[0;36m_do_call\u001b[1;34m(self, fn, *args)\u001b[0m\n\u001b[0;32m    642\u001b[0m   \u001b[1;32mdef\u001b[0m \u001b[0m_do_call\u001b[0m\u001b[1;33m(\u001b[0m\u001b[0mself\u001b[0m\u001b[1;33m,\u001b[0m \u001b[0mfn\u001b[0m\u001b[1;33m,\u001b[0m \u001b[1;33m*\u001b[0m\u001b[0margs\u001b[0m\u001b[1;33m)\u001b[0m\u001b[1;33m:\u001b[0m\u001b[1;33m\u001b[0m\u001b[0m\n\u001b[0;32m    643\u001b[0m     \u001b[1;32mtry\u001b[0m\u001b[1;33m:\u001b[0m\u001b[1;33m\u001b[0m\u001b[0m\n\u001b[1;32m--> 644\u001b[1;33m       \u001b[1;32mreturn\u001b[0m \u001b[0mfn\u001b[0m\u001b[1;33m(\u001b[0m\u001b[1;33m*\u001b[0m\u001b[0margs\u001b[0m\u001b[1;33m)\u001b[0m\u001b[1;33m\u001b[0m\u001b[0m\n\u001b[0m\u001b[0;32m    645\u001b[0m     \u001b[1;32mexcept\u001b[0m \u001b[0mtf_session\u001b[0m\u001b[1;33m.\u001b[0m\u001b[0mStatusNotOK\u001b[0m \u001b[1;32mas\u001b[0m \u001b[0me\u001b[0m\u001b[1;33m:\u001b[0m\u001b[1;33m\u001b[0m\u001b[0m\n\u001b[0;32m    646\u001b[0m       \u001b[0merror_message\u001b[0m \u001b[1;33m=\u001b[0m \u001b[0mcompat\u001b[0m\u001b[1;33m.\u001b[0m\u001b[0mas_text\u001b[0m\u001b[1;33m(\u001b[0m\u001b[0me\u001b[0m\u001b[1;33m.\u001b[0m\u001b[0merror_message\u001b[0m\u001b[1;33m)\u001b[0m\u001b[1;33m\u001b[0m\u001b[0m\n",
      "\u001b[1;32m/home/simsicon/.pyenv/versions/2.7.8/lib/python2.7/site-packages/tensorflow/python/client/session.pyc\u001b[0m in \u001b[0;36m_run_fn\u001b[1;34m(session, feed_dict, fetch_list, target_list, options, run_metadata)\u001b[0m\n\u001b[0;32m    626\u001b[0m       \u001b[1;32melse\u001b[0m\u001b[1;33m:\u001b[0m\u001b[1;33m\u001b[0m\u001b[0m\n\u001b[0;32m    627\u001b[0m         return tf_session.TF_Run(\n\u001b[1;32m--> 628\u001b[1;33m             session, None, feed_dict, fetch_list, target_list, None)\n\u001b[0m\u001b[0;32m    629\u001b[0m \u001b[1;33m\u001b[0m\u001b[0m\n\u001b[0;32m    630\u001b[0m     \u001b[1;32mdef\u001b[0m \u001b[0m_prun_fn\u001b[0m\u001b[1;33m(\u001b[0m\u001b[0msession\u001b[0m\u001b[1;33m,\u001b[0m \u001b[0mhandle\u001b[0m\u001b[1;33m,\u001b[0m \u001b[0mfeed_dict\u001b[0m\u001b[1;33m,\u001b[0m \u001b[0mfetch_list\u001b[0m\u001b[1;33m)\u001b[0m\u001b[1;33m:\u001b[0m\u001b[1;33m\u001b[0m\u001b[0m\n",
      "\u001b[1;31mKeyboardInterrupt\u001b[0m: "
     ]
    }
   ],
   "source": [
    "batch_size = 128\n",
    "hidden_layer1_size = 1024\n",
    "hidden_layer2_size = 305\n",
    "hidden_lastlayer_size = 75\n",
    "\n",
    "use_multilayers = True\n",
    "\n",
    "regularization_meta=0.03\n",
    "\n",
    "\n",
    "graph = tf.Graph()\n",
    "with graph.as_default():\n",
    "\n",
    "  # Input data. For the training data, we use a placeholder that will be fed\n",
    "  # at run time with a training minibatch.\n",
    "  tf_train_dataset = tf.placeholder(tf.float32,\n",
    "                                    shape=(batch_size, image_size * image_size))\n",
    "  tf_train_labels = tf.placeholder(tf.float32, shape=(batch_size, num_labels))\n",
    "  tf_valid_dataset = tf.constant(valid_dataset)\n",
    "  tf_test_dataset = tf.constant(test_dataset)\n",
    "  \n",
    "  # Variables.\n",
    "  keep_prob = tf.placeholder(tf.float32)\n",
    "\n",
    "  weights_layer1 = tf.Variable(\n",
    "    tf.truncated_normal([image_size * image_size, hidden_layer1_size], stddev=0.0517))\n",
    "  biases_layer1 = tf.Variable(tf.zeros([hidden_layer1_size]))\n",
    "\n",
    "  if use_multilayers:\n",
    "    weights_layer2 = tf.Variable(\n",
    "      tf.truncated_normal([hidden_layer1_size, hidden_layer1_size], stddev=0.0441))\n",
    "    biases_layer2 = tf.Variable(tf.zeros([hidden_layer1_size]))\n",
    "\n",
    "    weights_layer3 = tf.Variable(\n",
    "      tf.truncated_normal([hidden_layer1_size, hidden_layer2_size], stddev=0.0441))\n",
    "    biases_layer3 = tf.Variable(tf.zeros([hidden_layer2_size]))\n",
    "    \n",
    "    weights_layer4 = tf.Variable(\n",
    "      tf.truncated_normal([hidden_layer2_size, hidden_lastlayer_size], stddev=0.0809))\n",
    "    biases_layer4 = tf.Variable(tf.zeros([hidden_lastlayer_size]))\n",
    "\n",
    "\n",
    "  weights = tf.Variable(\n",
    "    tf.truncated_normal([hidden_lastlayer_size if use_multilayers else hidden_layer1_size, num_labels], stddev=0.1632))\n",
    "  biases = tf.Variable(tf.zeros([num_labels]))\n",
    "  \n",
    "    \n",
    "  # get the NN models\n",
    "  def getNN4Layer(dSet, use_dropout):\n",
    "    input_to_layer1 = tf.matmul(dSet, weights_layer1) + biases_layer1\n",
    "    hidden_layer1_output = tf.nn.relu(input_to_layer1)\n",
    "    \n",
    "    \n",
    "    logits_hidden1 = None\n",
    "    if use_dropout:\n",
    "       dropout_hidden1 = tf.nn.dropout(hidden_layer1_output, keep_prob)\n",
    "       logits_hidden1 = tf.matmul(dropout_hidden1, weights_layer2) + biases_layer2\n",
    "    else:\n",
    "      logits_hidden1 = tf.matmul(hidden_layer1_output, weights_layer2) + biases_layer2\n",
    "    \n",
    "    hidden_layer2_output = tf.nn.relu(logits_hidden1)\n",
    "    \n",
    "    logits_hidden2 = None\n",
    "    if use_dropout:\n",
    "       dropout_hidden2 = tf.nn.dropout(hidden_layer2_output, keep_prob)\n",
    "       logits_hidden2 = tf.matmul(dropout_hidden2, weights_layer3) + biases_layer3\n",
    "    else:\n",
    "      logits_hidden2 = tf.matmul(hidden_layer2_output, weights_layer3) + biases_layer3\n",
    "    \n",
    "    \n",
    "    hidden_layer3_output = tf.nn.relu(logits_hidden2)\n",
    "    logits_hidden3 = None\n",
    "    if use_dropout:\n",
    "       dropout_hidden3 = tf.nn.dropout(hidden_layer3_output, keep_prob)\n",
    "       logits_hidden3 = tf.matmul(dropout_hidden3, weights_layer4) + biases_layer4\n",
    "    else:\n",
    "      logits_hidden3 = tf.matmul(hidden_layer3_output, weights_layer4) + biases_layer4\n",
    "    \n",
    "    \n",
    "    hidden_layer4_output = tf.nn.relu(logits_hidden3)\n",
    "    logits = None\n",
    "    if use_dropout:\n",
    "       dropout_hidden4 = tf.nn.dropout(hidden_layer4_output, keep_prob)\n",
    "       logits = tf.matmul(dropout_hidden4, weights) + biases\n",
    "    else:\n",
    "      logits = tf.matmul(hidden_layer4_output, weights) + biases\n",
    "    \n",
    "    return logits\n",
    "\n",
    "  # get the NN models\n",
    "  def getNN1Layer(dSet, use_dropout, w1, b1, w, b):\n",
    "    input_to_layer1 = tf.matmul(dSet, w1) + b1\n",
    "    hidden_layer1_output = tf.nn.relu(input_to_layer1)\n",
    "        \n",
    "    logits = None\n",
    "    if use_dropout:\n",
    "       dropout_hidden1 = tf.nn.dropout(hidden_layer1_output, keep_prob)\n",
    "       logits = tf.matmul(dropout_hidden1, w) + b\n",
    "    else:\n",
    "      logits = tf.matmul(hidden_layer1_output, w) + b\n",
    "    \n",
    "    return logits\n",
    "\n",
    "  \n",
    "  \n",
    "  # Training computation.\n",
    "  logits = getNN4Layer(tf_train_dataset, True)  \n",
    "  logits_valid = getNN4Layer(tf_valid_dataset, False)\n",
    "  logits_test = getNN4Layer(tf_test_dataset, False)\n",
    "    \n",
    "  \n",
    "  loss = tf.reduce_mean(\n",
    "    tf.nn.softmax_cross_entropy_with_logits(logits, tf_train_labels))\n",
    "  #loss_l2 = loss + (regularization_meta * (tf.nn.l2_loss(weights)))\n",
    "  \n",
    "  global_step = tf.Variable(0)  # count the number of steps taken.\n",
    "  learning_rate = tf.train.exponential_decay(0.3, global_step, 3500, 0.86, staircase=True)\n",
    "  \n",
    "    \n",
    "  # Optimizer.\n",
    "  optimizer = tf.train.GradientDescentOptimizer(learning_rate).minimize(loss, global_step=global_step)\n",
    "  \n",
    "  # Predictions for the training, validation, and test data.\n",
    "  train_prediction = tf.nn.softmax(logits)\n",
    "  valid_prediction = tf.nn.softmax(logits_valid)\n",
    "  test_prediction = tf.nn.softmax(logits_test)\n",
    "\n",
    "\n",
    "\n",
    "num_steps = 95001\n",
    "\n",
    "with tf.Session(graph=graph) as session:\n",
    "  tf.initialize_all_variables().run()\n",
    "  for step in xrange(num_steps):\n",
    "    # Pick an offset within the training data, which has been randomized.\n",
    "    # Note: we could use better randomization across epochs.\n",
    "    offset = (step * batch_size) % (train_labels.shape[0] - batch_size)\n",
    "    \n",
    "    # Generate a minibatch.\n",
    "    batch_data = train_dataset[offset:(offset + batch_size), :]\n",
    "    batch_labels = train_labels[offset:(offset + batch_size), :]\n",
    "    \n",
    "    # Prepare a dictionary telling the session where to feed the minibatch.\n",
    "    # The key of the dictionary is the placeholder node of the graph to be fed,\n",
    "    # and the value is the numpy array to feed to it.\n",
    "    feed_dict = {tf_train_dataset : batch_data, tf_train_labels : batch_labels, keep_prob:0.75}\n",
    "    _, l, predictions = session.run(\n",
    "      [optimizer, loss, train_prediction], feed_dict=feed_dict)\n",
    "    if (step % 500 == 0):\n",
    "      print(\"Minibatch loss at step\", step, \":\", l)\n",
    "      print(\"Minibatch accuracy: %.1f%%\" % accuracy(train_prediction.eval(feed_dict={tf_train_dataset : batch_data, tf_train_labels : batch_labels, keep_prob:1.0}), batch_labels))\n",
    "      print(\"Validation accuracy: %.1f%%\" % accuracy(\n",
    "        valid_prediction.eval(feed_dict={keep_prob:1.0}), valid_labels))\n",
    "  print('Test accuracy: %.1f%%' % accuracy(test_prediction.eval(), test_labels))"
   ]
  },
  {
   "cell_type": "code",
   "execution_count": null,
   "metadata": {
    "collapsed": true
   },
   "outputs": [],
   "source": []
  }
 ],
 "metadata": {
  "colab": {
   "default_view": {},
   "name": "3_regularization.ipynb",
   "provenance": [],
   "version": "0.3.2",
   "views": {}
  },
  "kernelspec": {
   "display_name": "Python 2",
   "language": "python",
   "name": "python2"
  },
  "language_info": {
   "codemirror_mode": {
    "name": "ipython",
    "version": 2
   },
   "file_extension": ".py",
   "mimetype": "text/x-python",
   "name": "python",
   "nbconvert_exporter": "python",
   "pygments_lexer": "ipython2",
   "version": "2.7.8"
  },
  "widgets": {
   "state": {},
   "version": "1.1.2"
  }
 },
 "nbformat": 4,
 "nbformat_minor": 0
}
